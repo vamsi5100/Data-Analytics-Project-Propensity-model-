{
 "cells": [
  {
   "cell_type": "code",
   "execution_count": 1,
   "id": "ce1b80b3",
   "metadata": {},
   "outputs": [],
   "source": [
    "import os\n",
    "import pandas as pd\n",
    "import numpy as np\n",
    "from sklearn.linear_model import LogisticRegression\n",
    "from sklearn.model_selection import train_test_split\n",
    "from sklearn.metrics import confusion_matrix,accuracy_score,roc_auc_score,classification_report\n",
    "from tensorflow.keras.models import Sequential\n",
    "from tensorflow.keras.layers import Dense\n",
    "import tensorflow as tf\n",
    "from tensorflow import keras\n",
    "import matplotlib.pyplot as plt\n",
    "import seaborn as sns\n",
    "import random\n",
    "os.chdir(r'C:\\Users\\guthu\\Desktop\\iit-madras-paybuddy')"
   ]
  },
  {
   "cell_type": "markdown",
   "id": "9bb57cb0",
   "metadata": {},
   "source": [
    "# Data Pre-processing"
   ]
  },
  {
   "cell_type": "code",
   "execution_count": 2,
   "id": "c670bdf3",
   "metadata": {},
   "outputs": [],
   "source": [
    "\n",
    "df1=pd.read_csv('fraud_update_features.csv',index_col='cust_id')\n",
    "df1=df1.drop(['Unnamed: 0'], axis='columns', inplace=False)\n"
   ]
  },
  {
   "cell_type": "code",
   "execution_count": 3,
   "id": "93702eb2",
   "metadata": {},
   "outputs": [],
   "source": [
    "df1['Dates1'] = pd.to_datetime(df1['fraud_update_features_15']).dt.date\n",
    "df1['Time1'] = pd.to_datetime(df1['fraud_update_features_15']).dt.minute\n",
    "df1['Dates1'] = pd.to_datetime(df1['Dates1'])\n",
    "df1['day_15'] = df1['Dates1'].dt.day\n",
    "df1['month_15'] = df1['Dates1'].dt.month\n",
    "df1['year_15'] = df1['Dates1'].dt.year\n",
    "df1['Dates2'] = pd.to_datetime(df1['fraud_update_features_16']).dt.date\n",
    "df1['Time2'] = pd.to_datetime(df1['fraud_update_features_16']).dt.minute\n",
    "df1['Dates2'] = pd.to_datetime(df1['Dates2'])\n",
    "df1['day_16'] = df1['Dates2'].dt.day\n",
    "df1['month_16'] = df1['Dates2'].dt.month\n",
    "df1['year_16'] = df1['Dates2'].dt.year\n",
    "df1['Dates3'] = pd.to_datetime(df1['fraud_update_features_4']).dt.date\n",
    "df1['Time3'] = pd.to_datetime(df1['fraud_update_features_4']).dt.minute\n",
    "df1['Dates3'] = pd.to_datetime(df1['Dates3'])\n",
    "df1['day_4'] = df1['Dates3'].dt.day\n",
    "df1['month_4'] = df1['Dates3'].dt.month\n",
    "df1['year_4'] = df1['Dates3'].dt.year\n",
    "df1['Dates4'] = pd.to_datetime(df1['fraud_update_features_5']).dt.date\n",
    "df1['Time4'] = pd.to_datetime(df1['fraud_update_features_5']).dt.minute\n",
    "df1['Dates4'] = pd.to_datetime(df1['Dates4'])\n",
    "df1['day_5'] = df1['Dates4'].dt.day\n",
    "df1['month_5'] = df1['Dates4'].dt.month\n",
    "df1['year_5'] = df1['Dates4'].dt.year\n"
   ]
  },
  {
   "cell_type": "code",
   "execution_count": 4,
   "id": "550ce357",
   "metadata": {},
   "outputs": [],
   "source": [
    "df1=df1.select_dtypes(exclude=['object'])\n"
   ]
  },
  {
   "cell_type": "code",
   "execution_count": 5,
   "id": "9dde32f9",
   "metadata": {},
   "outputs": [],
   "source": [
    "df=df1.drop(['Dates1','Dates2','Dates3','Dates4'], axis='columns', inplace=False)\n"
   ]
  },
  {
   "cell_type": "code",
   "execution_count": 6,
   "id": "5c51b671",
   "metadata": {},
   "outputs": [
    {
     "name": "stderr",
     "output_type": "stream",
     "text": [
      "C:\\Users\\guthu\\AppData\\Local\\Temp/ipykernel_17588/1986547365.py:2: DeprecationWarning: `np.bool` is a deprecated alias for the builtin `bool`. To silence this warning, use `bool` by itself. Doing this will not modify any behavior and is safe. If you specifically wanted the numpy scalar type, use `np.bool_` here.\n",
      "Deprecated in NumPy 1.20; for more details and guidance: https://numpy.org/devdocs/release/1.20.0-notes.html#deprecations\n",
      "  upper_tri = cor_matrix.where(np.triu(np.ones(cor_matrix.shape),k=1).astype(np.bool))\n"
     ]
    }
   ],
   "source": [
    "\n",
    "cor_matrix = df.corr().abs()\n",
    "upper_tri = cor_matrix.where(np.triu(np.ones(cor_matrix.shape),k=1).astype(np.bool))\n",
    "to_drop = [column for column in upper_tri.columns if any(upper_tri[column] > 0.95)]\n",
    "Df1 = df.drop(df.columns[to_drop], axis=1)"
   ]
  },
  {
   "cell_type": "code",
   "execution_count": 7,
   "id": "5924e3c5",
   "metadata": {},
   "outputs": [
    {
     "data": {
      "text/plain": [
       "0"
      ]
     },
     "execution_count": 7,
     "metadata": {},
     "output_type": "execute_result"
    }
   ],
   "source": [
    "del df1,cor_matrix,upper_tri,to_drop\n",
    "import gc\n",
    "gc.collect()"
   ]
  },
  {
   "cell_type": "code",
   "execution_count": 8,
   "id": "4e19b914",
   "metadata": {},
   "outputs": [
    {
     "name": "stderr",
     "output_type": "stream",
     "text": [
      "C:\\Users\\guthu\\AppData\\Local\\Temp/ipykernel_17588/1977996677.py:5: DeprecationWarning: `np.bool` is a deprecated alias for the builtin `bool`. To silence this warning, use `bool` by itself. Doing this will not modify any behavior and is safe. If you specifically wanted the numpy scalar type, use `np.bool_` here.\n",
      "Deprecated in NumPy 1.20; for more details and guidance: https://numpy.org/devdocs/release/1.20.0-notes.html#deprecations\n",
      "  upper_tri = cor_matrix.where(np.triu(np.ones(cor_matrix.shape),k=1).astype(np.bool))\n"
     ]
    }
   ],
   "source": [
    "df2=pd.read_csv('new_acct_fi.csv',index_col='cust_id')\n",
    "df2=df2.select_dtypes(exclude=['object'])\n",
    "df2=df2.drop(['Unnamed: 0','new_acct_fi_3','new_acct_fi_4','new_acct_fi_5','new_acct_fi_6'], axis='columns', inplace=False)\n",
    "cor_matrix = df2.corr().abs()\n",
    "upper_tri = cor_matrix.where(np.triu(np.ones(cor_matrix.shape),k=1).astype(np.bool))\n",
    "to_drop = [column for column in upper_tri.columns if any(upper_tri[column] >0.95)]\n",
    "df2 = df2.drop(to_drop,axis='columns', inplace=False)\n",
    "Df2=pd.concat([Df1,df2],axis=1)"
   ]
  },
  {
   "cell_type": "code",
   "execution_count": 9,
   "id": "8229b732",
   "metadata": {},
   "outputs": [
    {
     "data": {
      "text/plain": [
       "0"
      ]
     },
     "execution_count": 9,
     "metadata": {},
     "output_type": "execute_result"
    }
   ],
   "source": [
    "del df2,cor_matrix,upper_tri,to_drop,Df1\n",
    "gc.collect()"
   ]
  },
  {
   "cell_type": "code",
   "execution_count": 10,
   "id": "71898266",
   "metadata": {},
   "outputs": [
    {
     "name": "stderr",
     "output_type": "stream",
     "text": [
      "C:\\Users\\guthu\\AppData\\Local\\Temp/ipykernel_17588/1446479214.py:5: DeprecationWarning: `np.bool` is a deprecated alias for the builtin `bool`. To silence this warning, use `bool` by itself. Doing this will not modify any behavior and is safe. If you specifically wanted the numpy scalar type, use `np.bool_` here.\n",
      "Deprecated in NumPy 1.20; for more details and guidance: https://numpy.org/devdocs/release/1.20.0-notes.html#deprecations\n",
      "  upper_tri = cor_matrix.where(np.triu(np.ones(cor_matrix.shape),k=1).astype(np.bool))\n"
     ]
    }
   ],
   "source": [
    "df3=pd.read_csv('new_acct_memo_rcv.csv',index_col='cust_id')\n",
    "df3=df3.select_dtypes(exclude=['object'])\n",
    "df3=df3.drop(['Unnamed: 0'], axis='columns', inplace=False)\n",
    "cor_matrix = df3.corr().abs()\n",
    "upper_tri = cor_matrix.where(np.triu(np.ones(cor_matrix.shape),k=1).astype(np.bool))\n",
    "to_drop = [column for column in upper_tri.columns if any(upper_tri[column] > 0.95)]\n",
    "df3 = df3.drop(to_drop,axis='columns', inplace=False)\n",
    "Df3=pd.concat([Df2,df3],axis=1)"
   ]
  },
  {
   "cell_type": "code",
   "execution_count": 11,
   "id": "55b38c82",
   "metadata": {},
   "outputs": [
    {
     "data": {
      "text/plain": [
       "0"
      ]
     },
     "execution_count": 11,
     "metadata": {},
     "output_type": "execute_result"
    }
   ],
   "source": [
    "del df3,cor_matrix,upper_tri,to_drop,Df2\n",
    "gc.collect()"
   ]
  },
  {
   "cell_type": "code",
   "execution_count": 12,
   "id": "c36ef49a",
   "metadata": {},
   "outputs": [
    {
     "name": "stderr",
     "output_type": "stream",
     "text": [
      "C:\\Users\\guthu\\AppData\\Local\\Temp/ipykernel_17588/2971593023.py:5: DeprecationWarning: `np.bool` is a deprecated alias for the builtin `bool`. To silence this warning, use `bool` by itself. Doing this will not modify any behavior and is safe. If you specifically wanted the numpy scalar type, use `np.bool_` here.\n",
      "Deprecated in NumPy 1.20; for more details and guidance: https://numpy.org/devdocs/release/1.20.0-notes.html#deprecations\n",
      "  upper_tri = cor_matrix.where(np.triu(np.ones(cor_matrix.shape),k=1).astype(np.bool))\n"
     ]
    }
   ],
   "source": [
    "df4=pd.read_csv('new_acct_memo_sent.csv',index_col='cust_id')\n",
    "df4=df4.select_dtypes(exclude=['object'])\n",
    "df4=df4.drop(['Unnamed: 0'], axis='columns', inplace=False)\n",
    "cor_matrix = df4.corr().abs()\n",
    "upper_tri = cor_matrix.where(np.triu(np.ones(cor_matrix.shape),k=1).astype(np.bool))\n",
    "to_drop = [column for column in upper_tri.columns if any(upper_tri[column] > 0.95)]\n",
    "df4 = df4.drop(to_drop,axis='columns', inplace=False)\n",
    "Df4=pd.concat([Df3,df4],axis=1)"
   ]
  },
  {
   "cell_type": "code",
   "execution_count": 13,
   "id": "962dcb46",
   "metadata": {},
   "outputs": [
    {
     "data": {
      "text/plain": [
       "0"
      ]
     },
     "execution_count": 13,
     "metadata": {},
     "output_type": "execute_result"
    }
   ],
   "source": [
    "del df4,cor_matrix,upper_tri,to_drop,Df3\n",
    "gc.collect()"
   ]
  },
  {
   "cell_type": "code",
   "execution_count": 14,
   "id": "9b0e16fb",
   "metadata": {},
   "outputs": [
    {
     "name": "stderr",
     "output_type": "stream",
     "text": [
      "C:\\Users\\guthu\\AppData\\Local\\Temp/ipykernel_17588/302848690.py:5: DeprecationWarning: `np.bool` is a deprecated alias for the builtin `bool`. To silence this warning, use `bool` by itself. Doing this will not modify any behavior and is safe. If you specifically wanted the numpy scalar type, use `np.bool_` here.\n",
      "Deprecated in NumPy 1.20; for more details and guidance: https://numpy.org/devdocs/release/1.20.0-notes.html#deprecations\n",
      "  upper_tri = cor_matrix.where(np.triu(np.ones(cor_matrix.shape),k=1).astype(np.bool))\n"
     ]
    }
   ],
   "source": [
    "df5=pd.read_csv('new_acct_receiver.csv',index_col='cust_id')\n",
    "df5=df5.select_dtypes(exclude=['object'])\n",
    "df5=df5.drop(['Unnamed: 0'], axis='columns', inplace=False)\n",
    "cor_matrix = df5.corr().abs()\n",
    "upper_tri = cor_matrix.where(np.triu(np.ones(cor_matrix.shape),k=1).astype(np.bool))\n",
    "to_drop = [column for column in upper_tri.columns if any(upper_tri[column] > 0.95)]\n",
    "df5 = df5.drop(to_drop,axis='columns', inplace=False)\n",
    "Df5=pd.concat([Df4,df5],axis=1)"
   ]
  },
  {
   "cell_type": "code",
   "execution_count": 15,
   "id": "382c1cd7",
   "metadata": {},
   "outputs": [
    {
     "data": {
      "text/plain": [
       "0"
      ]
     },
     "execution_count": 15,
     "metadata": {},
     "output_type": "execute_result"
    }
   ],
   "source": [
    "del df5,cor_matrix,upper_tri,to_drop,Df4\n",
    "gc.collect()"
   ]
  },
  {
   "cell_type": "code",
   "execution_count": 16,
   "id": "ffa3dfdc",
   "metadata": {},
   "outputs": [
    {
     "name": "stderr",
     "output_type": "stream",
     "text": [
      "C:\\Users\\guthu\\AppData\\Local\\Temp/ipykernel_17588/3886442611.py:5: DeprecationWarning: `np.bool` is a deprecated alias for the builtin `bool`. To silence this warning, use `bool` by itself. Doing this will not modify any behavior and is safe. If you specifically wanted the numpy scalar type, use `np.bool_` here.\n",
      "Deprecated in NumPy 1.20; for more details and guidance: https://numpy.org/devdocs/release/1.20.0-notes.html#deprecations\n",
      "  upper_tri = cor_matrix.where(np.triu(np.ones(cor_matrix.shape),k=1).astype(np.bool))\n"
     ]
    }
   ],
   "source": [
    "df6=pd.read_csv('new_acct_sender.csv',index_col='cust_id')\n",
    "df6=df6.select_dtypes(exclude=['object'])\n",
    "df6=df6.drop(['Unnamed: 0'], axis='columns', inplace=False)\n",
    "cor_matrix = df6.corr().abs()\n",
    "upper_tri = cor_matrix.where(np.triu(np.ones(cor_matrix.shape),k=1).astype(np.bool))\n",
    "to_drop = [column for column in upper_tri.columns if any(upper_tri[column] > 0.95)]\n",
    "df6 = df6.drop(to_drop,axis='columns', inplace=False)\n",
    "\n",
    "Df6=pd.concat([Df5,df6],axis=1)"
   ]
  },
  {
   "cell_type": "code",
   "execution_count": 17,
   "id": "a5bfb218",
   "metadata": {},
   "outputs": [
    {
     "data": {
      "text/plain": [
       "0"
      ]
     },
     "execution_count": 17,
     "metadata": {},
     "output_type": "execute_result"
    }
   ],
   "source": [
    "del df6,cor_matrix,upper_tri,to_drop,Df5\n",
    "gc.collect()"
   ]
  },
  {
   "cell_type": "code",
   "execution_count": 18,
   "id": "74b6fd48",
   "metadata": {},
   "outputs": [
    {
     "name": "stderr",
     "output_type": "stream",
     "text": [
      "C:\\Users\\guthu\\AppData\\Local\\Temp/ipykernel_17588/2320489644.py:5: DeprecationWarning: `np.bool` is a deprecated alias for the builtin `bool`. To silence this warning, use `bool` by itself. Doing this will not modify any behavior and is safe. If you specifically wanted the numpy scalar type, use `np.bool_` here.\n",
      "Deprecated in NumPy 1.20; for more details and guidance: https://numpy.org/devdocs/release/1.20.0-notes.html#deprecations\n",
      "  upper_tri = cor_matrix.where(np.triu(np.ones(cor_matrix.shape),k=1).astype(np.bool))\n"
     ]
    }
   ],
   "source": [
    "df7=pd.read_csv('payment_cashout_fail_df.csv',index_col='cust_id')\n",
    "df7=df7.select_dtypes(exclude=['object'])\n",
    "df7=df7.drop(['Unnamed: 0'], axis='columns', inplace=False)\n",
    "cor_matrix = df7.corr().abs()\n",
    "upper_tri = cor_matrix.where(np.triu(np.ones(cor_matrix.shape),k=1).astype(np.bool))\n",
    "to_drop = [column for column in upper_tri.columns if any(upper_tri[column] > 0.95)]\n",
    "df7 = df7.drop(to_drop,axis='columns', inplace=False)\n",
    "Df7=pd.concat([Df6,df7],axis=1)"
   ]
  },
  {
   "cell_type": "code",
   "execution_count": 19,
   "id": "579c83e9",
   "metadata": {},
   "outputs": [
    {
     "data": {
      "text/plain": [
       "0"
      ]
     },
     "execution_count": 19,
     "metadata": {},
     "output_type": "execute_result"
    }
   ],
   "source": [
    "del df7,cor_matrix,upper_tri,to_drop,Df6\n",
    "gc.collect()"
   ]
  },
  {
   "cell_type": "code",
   "execution_count": null,
   "id": "15f5517b",
   "metadata": {},
   "outputs": [],
   "source": []
  },
  {
   "cell_type": "markdown",
   "id": "b1db284d",
   "metadata": {},
   "source": [
    "##  Filling missing values"
   ]
  },
  {
   "cell_type": "code",
   "execution_count": 20,
   "id": "3a8010b0",
   "metadata": {},
   "outputs": [],
   "source": [
    "for i in Df7.columns:\n",
    "    Df7[i].fillna(Df7[i].median(),inplace=True)"
   ]
  },
  {
   "cell_type": "code",
   "execution_count": 21,
   "id": "7c2a9030",
   "metadata": {},
   "outputs": [],
   "source": [
    "train_data=pd.read_csv('train_df.csv',index_col='cust_id')"
   ]
  },
  {
   "cell_type": "code",
   "execution_count": 22,
   "id": "2388c322",
   "metadata": {},
   "outputs": [],
   "source": [
    "data1=pd.concat([Df7,train_data],axis=1,join='inner')"
   ]
  },
  {
   "cell_type": "code",
   "execution_count": 23,
   "id": "a9b905e6",
   "metadata": {},
   "outputs": [],
   "source": [
    "data2=data1.drop(['target'], axis='columns', inplace=False)"
   ]
  },
  {
   "cell_type": "markdown",
   "id": "da94a133",
   "metadata": {},
   "source": [
    "## Normalization"
   ]
  },
  {
   "cell_type": "code",
   "execution_count": 24,
   "id": "5e568084",
   "metadata": {
    "scrolled": true
   },
   "outputs": [
    {
     "data": {
      "text/plain": [
       "StandardScaler()"
      ]
     },
     "execution_count": 24,
     "metadata": {},
     "output_type": "execute_result"
    }
   ],
   "source": [
    "from sklearn.preprocessing import StandardScaler\n",
    "scalar=StandardScaler()\n",
    "scalar.fit(Df7)"
   ]
  },
  {
   "cell_type": "markdown",
   "id": "dbee4209",
   "metadata": {},
   "source": [
    "## Train data"
   ]
  },
  {
   "cell_type": "code",
   "execution_count": 25,
   "id": "7e09e59d",
   "metadata": {},
   "outputs": [],
   "source": [
    "X=scalar.transform(data2)"
   ]
  },
  {
   "cell_type": "code",
   "execution_count": 26,
   "id": "2d6680e6",
   "metadata": {},
   "outputs": [],
   "source": [
    "Y=data1['target'].values"
   ]
  },
  {
   "cell_type": "markdown",
   "id": "5b245dc1",
   "metadata": {},
   "source": [
    "## Test data"
   ]
  },
  {
   "cell_type": "code",
   "execution_count": 27,
   "id": "3a891f77",
   "metadata": {},
   "outputs": [],
   "source": [
    "test=pd.read_csv('test_cust_id.csv',index_col='cust_id')\n",
    "test1=pd.concat([Df7,test], axis=1, join=\"inner\")"
   ]
  },
  {
   "cell_type": "code",
   "execution_count": 28,
   "id": "3508288e",
   "metadata": {},
   "outputs": [
    {
     "data": {
      "text/plain": [
       "0"
      ]
     },
     "execution_count": 28,
     "metadata": {},
     "output_type": "execute_result"
    }
   ],
   "source": [
    "del data1,data2,train_data,Df7\n",
    "gc.collect()"
   ]
  },
  {
   "cell_type": "code",
   "execution_count": 29,
   "id": "4e8d0739",
   "metadata": {},
   "outputs": [],
   "source": [
    "testx=scalar.transform(test1)"
   ]
  },
  {
   "cell_type": "code",
   "execution_count": 30,
   "id": "a2264738",
   "metadata": {},
   "outputs": [],
   "source": [
    "#splitting data for model training"
   ]
  },
  {
   "cell_type": "code",
   "execution_count": 31,
   "id": "a8898d7a",
   "metadata": {},
   "outputs": [],
   "source": [
    "x_train,x_test,y_train,y_test=train_test_split(X,Y,random_state=41,stratify=Y,test_size=0.1)"
   ]
  },
  {
   "cell_type": "markdown",
   "id": "4a3bb118",
   "metadata": {},
   "source": [
    "## handling imbalanced dataset"
   ]
  },
  {
   "cell_type": "code",
   "execution_count": 65,
   "id": "15bdcff1",
   "metadata": {},
   "outputs": [
    {
     "name": "stderr",
     "output_type": "stream",
     "text": [
      "C:\\ProgramData\\Anaconda3\\lib\\site-packages\\imblearn\\utils\\_validation.py:587: FutureWarning: Pass sampling_strategy=0.99 as keyword args. From version 0.9 passing these as positional arguments will result in an error\n",
      "  warnings.warn(\n"
     ]
    },
    {
     "name": "stdout",
     "output_type": "stream",
     "text": [
      "The number of classes before fit Counter({0.0: 576000, 1.0: 72000})\n",
      "The number of classes after fit Counter({0.0: 640000, 1.0: 633600})\n"
     ]
    }
   ],
   "source": [
    "from imblearn.over_sampling import RandomOverSampler\n",
    "import collections\n",
    "os=RandomOverSampler(0.99)\n",
    "x_train_ns,y_train_ns=os.fit_resample(X,Y)\n",
    "print(\"The number of classes before fit {}\".format(collections.Counter(y_train)))\n",
    "print(\"The number of classes after fit {}\".format(collections.Counter(y_train_ns)))"
   ]
  },
  {
   "cell_type": "code",
   "execution_count": 66,
   "id": "7a8db41e",
   "metadata": {},
   "outputs": [],
   "source": [
    "del RandomOverSampler,collections"
   ]
  },
  {
   "cell_type": "markdown",
   "id": "e2607fa9",
   "metadata": {},
   "source": [
    "# XGboost"
   ]
  },
  {
   "cell_type": "code",
   "execution_count": 67,
   "id": "2279bdd6",
   "metadata": {},
   "outputs": [],
   "source": [
    "import xgboost as xgb\n",
    "params={\n",
    " \"learning_rate\"    : [0.05, 0.10, 0.15 ] ,\n",
    " \"max_depth\"        : [ 3, 4, 5, 6],\n",
    " \"min_child_weight\" : [ 1, 3, 5, 7,9,11,13],\n",
    " \"gamma\"            : [ 0.0, 0.1, 0.2 , 0.3, 0.4 ],\n",
    " \"colsample_bytree\" : [ 0.1,0.2,0.3, 0.4, 0.5]\n",
    "    \n",
    "}\n",
    "\n",
    "epochs=40"
   ]
  },
  {
   "cell_type": "code",
   "execution_count": 59,
   "id": "635968dc",
   "metadata": {},
   "outputs": [],
   "source": [
    "classifier=xgb.XGBClassifier(tree_method='hist')"
   ]
  },
  {
   "cell_type": "markdown",
   "id": "5565f4ef",
   "metadata": {},
   "source": [
    "### hyperparameter tuning"
   ]
  },
  {
   "cell_type": "code",
   "execution_count": null,
   "id": "ac54daa0",
   "metadata": {},
   "outputs": [],
   "source": [
    "from sklearn.model_selection import RandomizedSearchCV, GridSearchCV\n",
    "random_search=RandomizedSearchCV(classifier,param_distributions=params,n_iter=5,scoring='roc_auc',n_jobs=-1,cv=5,verbose=3)"
   ]
  },
  {
   "cell_type": "code",
   "execution_count": null,
   "id": "a63d98fd",
   "metadata": {},
   "outputs": [],
   "source": [
    "random_search.fit(x_train_ns,y_train_ns)"
   ]
  },
  {
   "cell_type": "code",
   "execution_count": null,
   "id": "52b88cfb",
   "metadata": {},
   "outputs": [],
   "source": [
    "random_search.best_estimator_"
   ]
  },
  {
   "cell_type": "code",
   "execution_count": null,
   "id": "05bc111f",
   "metadata": {},
   "outputs": [],
   "source": [
    "random_search.best_params_"
   ]
  },
  {
   "cell_type": "code",
   "execution_count": null,
   "id": "56ad8846",
   "metadata": {},
   "outputs": [],
   "source": [
    "del random_search,RandomizedSearchCV, GridSearchCV\n",
    "gc.collect()"
   ]
  },
  {
   "cell_type": "code",
   "execution_count": 68,
   "id": "0bd777c7",
   "metadata": {},
   "outputs": [],
   "source": [
    "classifier=xgb.XGBClassifier(base_score=0.5, booster='gbtree', colsample_bylevel=1,\n",
    "              colsample_bynode=1, colsample_bytree=0.4,\n",
    "              enable_categorical=False, gamma=0.3, gpu_id=-1,\n",
    "              importance_type=None, interaction_constraints='',\n",
    "              learning_rate=0.15, max_delta_step=0, max_depth=5,\n",
    "              min_child_weight=1, monotone_constraints='()',\n",
    "              n_estimators=100, n_jobs=4, num_parallel_tree=1, predictor='auto',\n",
    "              random_state=0, reg_alpha=0, reg_lambda=1, scale_pos_weight=1,\n",
    "              subsample=1, tree_method='hist', validate_parameters=1,\n",
    "              verbosity=None)"
   ]
  },
  {
   "cell_type": "code",
   "execution_count": null,
   "id": "4d1f2cce",
   "metadata": {},
   "outputs": [],
   "source": []
  },
  {
   "cell_type": "code",
   "execution_count": 69,
   "id": "dda4c85b",
   "metadata": {
    "scrolled": true
   },
   "outputs": [
    {
     "name": "stderr",
     "output_type": "stream",
     "text": [
      "C:\\ProgramData\\Anaconda3\\lib\\site-packages\\xgboost\\sklearn.py:1224: UserWarning: The use of label encoder in XGBClassifier is deprecated and will be removed in a future release. To remove this warning, do the following: 1) Pass option use_label_encoder=False when constructing XGBClassifier object; and 2) Encode your labels (y) as integers starting with 0, i.e. 0, 1, 2, ..., [num_class - 1].\n",
      "  warnings.warn(label_encoder_deprecation_msg, UserWarning)\n"
     ]
    },
    {
     "name": "stdout",
     "output_type": "stream",
     "text": [
      "[0]\tvalidation_0-aucpr:0.28007\n",
      "[1]\tvalidation_0-aucpr:0.30303\n",
      "[2]\tvalidation_0-aucpr:0.30527\n",
      "[3]\tvalidation_0-aucpr:0.30608\n",
      "[4]\tvalidation_0-aucpr:0.30901\n",
      "[5]\tvalidation_0-aucpr:0.31206\n",
      "[6]\tvalidation_0-aucpr:0.31415\n",
      "[7]\tvalidation_0-aucpr:0.31468\n",
      "[8]\tvalidation_0-aucpr:0.31614\n",
      "[9]\tvalidation_0-aucpr:0.31630\n",
      "[10]\tvalidation_0-aucpr:0.31871\n",
      "[11]\tvalidation_0-aucpr:0.31978\n",
      "[12]\tvalidation_0-aucpr:0.32094\n",
      "[13]\tvalidation_0-aucpr:0.32183\n",
      "[14]\tvalidation_0-aucpr:0.32405\n",
      "[15]\tvalidation_0-aucpr:0.32515\n",
      "[16]\tvalidation_0-aucpr:0.32610\n",
      "[17]\tvalidation_0-aucpr:0.32758\n",
      "[18]\tvalidation_0-aucpr:0.32856\n",
      "[19]\tvalidation_0-aucpr:0.32895\n",
      "[20]\tvalidation_0-aucpr:0.32983\n",
      "[21]\tvalidation_0-aucpr:0.33066\n",
      "[22]\tvalidation_0-aucpr:0.33150\n",
      "[23]\tvalidation_0-aucpr:0.33242\n",
      "[24]\tvalidation_0-aucpr:0.33309\n",
      "[25]\tvalidation_0-aucpr:0.33403\n",
      "[26]\tvalidation_0-aucpr:0.33494\n",
      "[27]\tvalidation_0-aucpr:0.33566\n",
      "[28]\tvalidation_0-aucpr:0.33667\n",
      "[29]\tvalidation_0-aucpr:0.33726\n",
      "[30]\tvalidation_0-aucpr:0.33763\n",
      "[31]\tvalidation_0-aucpr:0.33776\n",
      "[32]\tvalidation_0-aucpr:0.33795\n",
      "[33]\tvalidation_0-aucpr:0.33809\n",
      "[34]\tvalidation_0-aucpr:0.33859\n",
      "[35]\tvalidation_0-aucpr:0.33920\n",
      "[36]\tvalidation_0-aucpr:0.33925\n",
      "[37]\tvalidation_0-aucpr:0.33961\n",
      "[38]\tvalidation_0-aucpr:0.33993\n",
      "[39]\tvalidation_0-aucpr:0.34023\n",
      "[40]\tvalidation_0-aucpr:0.34054\n",
      "[41]\tvalidation_0-aucpr:0.34071\n",
      "[42]\tvalidation_0-aucpr:0.34076\n",
      "[43]\tvalidation_0-aucpr:0.34115\n",
      "[44]\tvalidation_0-aucpr:0.34153\n",
      "[45]\tvalidation_0-aucpr:0.34197\n",
      "[46]\tvalidation_0-aucpr:0.34237\n",
      "[47]\tvalidation_0-aucpr:0.34264\n",
      "[48]\tvalidation_0-aucpr:0.34287\n",
      "[49]\tvalidation_0-aucpr:0.34292\n",
      "[50]\tvalidation_0-aucpr:0.34329\n",
      "[51]\tvalidation_0-aucpr:0.34335\n",
      "[52]\tvalidation_0-aucpr:0.34373\n",
      "[53]\tvalidation_0-aucpr:0.34440\n",
      "[54]\tvalidation_0-aucpr:0.34449\n",
      "[55]\tvalidation_0-aucpr:0.34431\n",
      "[56]\tvalidation_0-aucpr:0.34443\n",
      "[57]\tvalidation_0-aucpr:0.34452\n",
      "[58]\tvalidation_0-aucpr:0.34475\n",
      "[59]\tvalidation_0-aucpr:0.34481\n",
      "[60]\tvalidation_0-aucpr:0.34492\n",
      "[61]\tvalidation_0-aucpr:0.34495\n",
      "[62]\tvalidation_0-aucpr:0.34504\n",
      "[63]\tvalidation_0-aucpr:0.34518\n",
      "[64]\tvalidation_0-aucpr:0.34533\n",
      "[65]\tvalidation_0-aucpr:0.34548\n",
      "[66]\tvalidation_0-aucpr:0.34566\n",
      "[67]\tvalidation_0-aucpr:0.34575\n",
      "[68]\tvalidation_0-aucpr:0.34585\n",
      "[69]\tvalidation_0-aucpr:0.34608\n",
      "[70]\tvalidation_0-aucpr:0.34627\n",
      "[71]\tvalidation_0-aucpr:0.34651\n",
      "[72]\tvalidation_0-aucpr:0.34674\n",
      "[73]\tvalidation_0-aucpr:0.34671\n",
      "[74]\tvalidation_0-aucpr:0.34690\n",
      "[75]\tvalidation_0-aucpr:0.34723\n",
      "[76]\tvalidation_0-aucpr:0.34730\n",
      "[77]\tvalidation_0-aucpr:0.34760\n",
      "[78]\tvalidation_0-aucpr:0.34771\n",
      "[79]\tvalidation_0-aucpr:0.34776\n",
      "[80]\tvalidation_0-aucpr:0.34792\n",
      "[81]\tvalidation_0-aucpr:0.34802\n",
      "[82]\tvalidation_0-aucpr:0.34827\n",
      "[83]\tvalidation_0-aucpr:0.34850\n",
      "[84]\tvalidation_0-aucpr:0.34871\n",
      "[85]\tvalidation_0-aucpr:0.34945\n",
      "[86]\tvalidation_0-aucpr:0.34959\n",
      "[87]\tvalidation_0-aucpr:0.35013\n",
      "[88]\tvalidation_0-aucpr:0.35014\n",
      "[89]\tvalidation_0-aucpr:0.35051\n",
      "[90]\tvalidation_0-aucpr:0.35078\n",
      "[91]\tvalidation_0-aucpr:0.35087\n",
      "[92]\tvalidation_0-aucpr:0.35102\n",
      "[93]\tvalidation_0-aucpr:0.35131\n",
      "[94]\tvalidation_0-aucpr:0.35155\n",
      "[95]\tvalidation_0-aucpr:0.35165\n",
      "[96]\tvalidation_0-aucpr:0.35174\n",
      "[97]\tvalidation_0-aucpr:0.35184\n",
      "[98]\tvalidation_0-aucpr:0.35187\n",
      "[99]\tvalidation_0-aucpr:0.35218\n"
     ]
    },
    {
     "data": {
      "text/plain": [
       "XGBClassifier(base_score=0.5, booster='gbtree', colsample_bylevel=1,\n",
       "              colsample_bynode=1, colsample_bytree=0.4,\n",
       "              enable_categorical=False, gamma=0.3, gpu_id=-1,\n",
       "              importance_type=None, interaction_constraints='',\n",
       "              learning_rate=0.15, max_delta_step=0, max_depth=5,\n",
       "              min_child_weight=1, missing=nan, monotone_constraints='()',\n",
       "              n_estimators=100, n_jobs=4, num_parallel_tree=1, predictor='auto',\n",
       "              random_state=0, reg_alpha=0, reg_lambda=1, scale_pos_weight=1,\n",
       "              subsample=1, tree_method='hist', validate_parameters=1,\n",
       "              verbosity=None)"
      ]
     },
     "execution_count": 69,
     "metadata": {},
     "output_type": "execute_result"
    }
   ],
   "source": [
    "classifier.fit(x_train_ns,y_train_ns,verbose=True,early_stopping_rounds=10,eval_metric='aucpr',eval_set=[(x_test,y_test)])"
   ]
  },
  {
   "cell_type": "markdown",
   "id": "d3a1869d",
   "metadata": {},
   "source": [
    "### cross validation"
   ]
  },
  {
   "cell_type": "code",
   "execution_count": null,
   "id": "7eb5e881",
   "metadata": {},
   "outputs": [],
   "source": [
    "from sklearn.model_selection import cross_val_score\n",
    "score=cross_val_score(classifier,x_train_ns,y_train_ns,cv=5,scoring='roc_auc',n_jobs=-1)"
   ]
  },
  {
   "cell_type": "markdown",
   "id": "000e1681",
   "metadata": {},
   "source": [
    "### predictions"
   ]
  },
  {
   "cell_type": "code",
   "execution_count": 70,
   "id": "2c95930b",
   "metadata": {},
   "outputs": [],
   "source": [
    "y_pred = classifier.predict(x_test)"
   ]
  },
  {
   "cell_type": "code",
   "execution_count": null,
   "id": "03595467",
   "metadata": {},
   "outputs": [],
   "source": [
    "sns.countplot(y_pred, palette='Set2')"
   ]
  },
  {
   "cell_type": "code",
   "execution_count": 83,
   "id": "fcff91b2",
   "metadata": {},
   "outputs": [],
   "source": [
    "y_pred_1=classifier.predict_proba(testx)"
   ]
  },
  {
   "cell_type": "markdown",
   "id": "fe2b5f87",
   "metadata": {},
   "source": [
    "### error metrics"
   ]
  },
  {
   "cell_type": "code",
   "execution_count": 71,
   "id": "be853051",
   "metadata": {
    "scrolled": true
   },
   "outputs": [
    {
     "name": "stdout",
     "output_type": "stream",
     "text": [
      "[[49076 14924]\n",
      " [ 2952  5048]]\n",
      "0.7517222222222222\n",
      "              precision    recall  f1-score   support\n",
      "\n",
      "         0.0       0.94      0.77      0.85     64000\n",
      "         1.0       0.25      0.63      0.36      8000\n",
      "\n",
      "    accuracy                           0.75     72000\n",
      "   macro avg       0.60      0.70      0.60     72000\n",
      "weighted avg       0.87      0.75      0.79     72000\n",
      "\n"
     ]
    }
   ],
   "source": [
    "print(confusion_matrix(y_test,y_pred))\n",
    "print(accuracy_score(y_test,y_pred))\n",
    "print(classification_report(y_test,y_pred))"
   ]
  },
  {
   "cell_type": "code",
   "execution_count": 72,
   "id": "25685e38",
   "metadata": {},
   "outputs": [
    {
     "data": {
      "text/plain": [
       "0.6989062500000001"
      ]
     },
     "execution_count": 72,
     "metadata": {},
     "output_type": "execute_result"
    }
   ],
   "source": [
    "roc_auc_score(y_test,y_pred)"
   ]
  },
  {
   "cell_type": "markdown",
   "id": "745187f3",
   "metadata": {},
   "source": [
    "### Test data predictions"
   ]
  },
  {
   "cell_type": "code",
   "execution_count": 84,
   "id": "175acebb",
   "metadata": {},
   "outputs": [],
   "source": [
    "L3=[]\n",
    "for i in range(len(y_pred_1)):\n",
    "    L3.append(y_pred_1[i][1])"
   ]
  },
  {
   "cell_type": "code",
   "execution_count": 85,
   "id": "35b32d70",
   "metadata": {},
   "outputs": [],
   "source": [
    "result=pd.DataFrame({'target':L3},index=test1.index)\n",
    "result.to_csv('xgb9.csv')"
   ]
  },
  {
   "cell_type": "code",
   "execution_count": null,
   "id": "b30685fe",
   "metadata": {},
   "outputs": [],
   "source": [
    "testx1=pd.read_csv('xgb1.csv',index_col=0)\n",
    "H2=testx1['target'].values"
   ]
  },
  {
   "cell_type": "code",
   "execution_count": null,
   "id": "65389a86",
   "metadata": {},
   "outputs": [],
   "source": [
    "H1=[]\n",
    "for i in range(len(H2)):\n",
    "    if H2[i]>0.5:\n",
    "      H1+=[1]\n",
    "    else:\n",
    "        H1+=[0]"
   ]
  },
  {
   "cell_type": "code",
   "execution_count": null,
   "id": "c636671c",
   "metadata": {},
   "outputs": [],
   "source": [
    "accuracy_score(H1,L1)"
   ]
  },
  {
   "cell_type": "code",
   "execution_count": null,
   "id": "a754783c",
   "metadata": {},
   "outputs": [],
   "source": [
    "confusion_matrix(H1,L1)"
   ]
  },
  {
   "cell_type": "markdown",
   "id": "4886ca51",
   "metadata": {},
   "source": [
    "# LightGBM"
   ]
  },
  {
   "cell_type": "code",
   "execution_count": 73,
   "id": "bc8f0f47",
   "metadata": {},
   "outputs": [],
   "source": [
    "from lightgbm import LGBMClassifier"
   ]
  },
  {
   "cell_type": "code",
   "execution_count": 74,
   "id": "79061c7a",
   "metadata": {},
   "outputs": [],
   "source": [
    "params={\n",
    " \"learning_rate\"    : [0.05, 0.10, 0.15, 0.20, 0.25, 0.30 ] ,\n",
    " \"max_depth\"        : [ 3, 4, 5, 6, 8, 10, 12, 15],\n",
    " \"min_child_weight\" : [ 1, 3, 5, 7 ],\n",
    " \"gamma\"            : [ 0.0, 0.1, 0.2 , 0.3, 0.4 ],\n",
    " \"colsample_bytree\" : [ 0.3, 0.4, 0.5 , 0.7 ]\n",
    "    \n",
    "}"
   ]
  },
  {
   "cell_type": "code",
   "execution_count": 36,
   "id": "9c5793c1",
   "metadata": {},
   "outputs": [],
   "source": [
    "from sklearn.model_selection import RandomizedSearchCV, GridSearchCV"
   ]
  },
  {
   "cell_type": "code",
   "execution_count": 75,
   "id": "194a06f0",
   "metadata": {},
   "outputs": [],
   "source": [
    "lgbm=LGBMClassifier()"
   ]
  },
  {
   "cell_type": "code",
   "execution_count": 38,
   "id": "0a4dba5b",
   "metadata": {},
   "outputs": [],
   "source": [
    "random_search=RandomizedSearchCV(lgbm,param_distributions=params,n_iter=5,scoring='roc_auc',n_jobs=-1,cv=5,verbose=3)"
   ]
  },
  {
   "cell_type": "code",
   "execution_count": 39,
   "id": "b5725d17",
   "metadata": {},
   "outputs": [
    {
     "name": "stdout",
     "output_type": "stream",
     "text": [
      "Fitting 5 folds for each of 5 candidates, totalling 25 fits\n",
      "[LightGBM] [Warning] Unknown parameter: gamma\n"
     ]
    },
    {
     "data": {
      "text/plain": [
       "RandomizedSearchCV(cv=5, estimator=LGBMClassifier(), n_iter=5, n_jobs=-1,\n",
       "                   param_distributions={'colsample_bytree': [0.3, 0.4, 0.5,\n",
       "                                                             0.7],\n",
       "                                        'gamma': [0.0, 0.1, 0.2, 0.3, 0.4],\n",
       "                                        'learning_rate': [0.05, 0.1, 0.15, 0.2,\n",
       "                                                          0.25, 0.3],\n",
       "                                        'max_depth': [3, 4, 5, 6, 8, 10, 12,\n",
       "                                                      15],\n",
       "                                        'min_child_weight': [1, 3, 5, 7]},\n",
       "                   scoring='roc_auc', verbose=3)"
      ]
     },
     "execution_count": 39,
     "metadata": {},
     "output_type": "execute_result"
    }
   ],
   "source": [
    "random_search.fit(x_train_ns,y_train_ns)"
   ]
  },
  {
   "cell_type": "code",
   "execution_count": 40,
   "id": "e96d5580",
   "metadata": {},
   "outputs": [
    {
     "data": {
      "text/plain": [
       "LGBMClassifier(colsample_bytree=0.7, gamma=0.3, max_depth=12,\n",
       "               min_child_weight=1)"
      ]
     },
     "execution_count": 40,
     "metadata": {},
     "output_type": "execute_result"
    }
   ],
   "source": [
    "random_search.best_estimator_"
   ]
  },
  {
   "cell_type": "code",
   "execution_count": 41,
   "id": "01a990bb",
   "metadata": {},
   "outputs": [
    {
     "data": {
      "text/plain": [
       "{'min_child_weight': 1,\n",
       " 'max_depth': 12,\n",
       " 'learning_rate': 0.1,\n",
       " 'gamma': 0.3,\n",
       " 'colsample_bytree': 0.7}"
      ]
     },
     "execution_count": 41,
     "metadata": {},
     "output_type": "execute_result"
    }
   ],
   "source": [
    "random_search.best_params_"
   ]
  },
  {
   "cell_type": "code",
   "execution_count": 76,
   "id": "6221f893",
   "metadata": {},
   "outputs": [],
   "source": [
    "lgbm=LGBMClassifier(colsample_bytree=0.7, gamma=0.3, max_depth=12,\n",
    "               min_child_weight=1,reg_alpha=0,reg_lambda=1)"
   ]
  },
  {
   "cell_type": "code",
   "execution_count": null,
   "id": "943c087d",
   "metadata": {},
   "outputs": [],
   "source": [
    "from sklearn.model_selection import cross_val_score\n",
    "score=cross_val_score(lgbm,x_train_ns,y_train_ns,cv=5,scoring='roc_auc',n_jobs=-1)"
   ]
  },
  {
   "cell_type": "code",
   "execution_count": 77,
   "id": "e4933f1b",
   "metadata": {
    "scrolled": true
   },
   "outputs": [
    {
     "name": "stderr",
     "output_type": "stream",
     "text": [
      "C:\\ProgramData\\Anaconda3\\lib\\site-packages\\lightgbm\\sklearn.py:726: UserWarning: 'early_stopping_rounds' argument is deprecated and will be removed in a future release of LightGBM. Pass 'early_stopping()' callback via 'callbacks' argument instead.\n",
      "  _log_warning(\"'early_stopping_rounds' argument is deprecated and will be removed in a future release of LightGBM. \"\n",
      "C:\\ProgramData\\Anaconda3\\lib\\site-packages\\lightgbm\\sklearn.py:736: UserWarning: 'verbose' argument is deprecated and will be removed in a future release of LightGBM. Pass 'log_evaluation()' callback via 'callbacks' argument instead.\n",
      "  _log_warning(\"'verbose' argument is deprecated and will be removed in a future release of LightGBM. \"\n"
     ]
    },
    {
     "name": "stdout",
     "output_type": "stream",
     "text": [
      "[LightGBM] [Warning] Unknown parameter: gamma\n",
      "[1]\tvalid_0's binary_logloss: 0.676798\n",
      "[2]\tvalid_0's binary_logloss: 0.665249\n",
      "[3]\tvalid_0's binary_logloss: 0.656166\n",
      "[4]\tvalid_0's binary_logloss: 0.647751\n",
      "[5]\tvalid_0's binary_logloss: 0.639983\n",
      "[6]\tvalid_0's binary_logloss: 0.633636\n",
      "[7]\tvalid_0's binary_logloss: 0.627218\n",
      "[8]\tvalid_0's binary_logloss: 0.621753\n",
      "[9]\tvalid_0's binary_logloss: 0.617007\n",
      "[10]\tvalid_0's binary_logloss: 0.612892\n",
      "[11]\tvalid_0's binary_logloss: 0.609326\n",
      "[12]\tvalid_0's binary_logloss: 0.606486\n",
      "[13]\tvalid_0's binary_logloss: 0.603968\n",
      "[14]\tvalid_0's binary_logloss: 0.601704\n",
      "[15]\tvalid_0's binary_logloss: 0.599554\n",
      "[16]\tvalid_0's binary_logloss: 0.597744\n",
      "[17]\tvalid_0's binary_logloss: 0.596156\n",
      "[18]\tvalid_0's binary_logloss: 0.594577\n",
      "[19]\tvalid_0's binary_logloss: 0.593151\n",
      "[20]\tvalid_0's binary_logloss: 0.592057\n",
      "[21]\tvalid_0's binary_logloss: 0.590844\n",
      "[22]\tvalid_0's binary_logloss: 0.589757\n",
      "[23]\tvalid_0's binary_logloss: 0.588736\n",
      "[24]\tvalid_0's binary_logloss: 0.587937\n",
      "[25]\tvalid_0's binary_logloss: 0.587122\n",
      "[26]\tvalid_0's binary_logloss: 0.586344\n",
      "[27]\tvalid_0's binary_logloss: 0.585682\n",
      "[28]\tvalid_0's binary_logloss: 0.585056\n",
      "[29]\tvalid_0's binary_logloss: 0.58439\n",
      "[30]\tvalid_0's binary_logloss: 0.583749\n",
      "[31]\tvalid_0's binary_logloss: 0.5832\n",
      "[32]\tvalid_0's binary_logloss: 0.582696\n",
      "[33]\tvalid_0's binary_logloss: 0.582171\n",
      "[34]\tvalid_0's binary_logloss: 0.581639\n",
      "[35]\tvalid_0's binary_logloss: 0.581184\n",
      "[36]\tvalid_0's binary_logloss: 0.580741\n",
      "[37]\tvalid_0's binary_logloss: 0.580297\n",
      "[38]\tvalid_0's binary_logloss: 0.579903\n",
      "[39]\tvalid_0's binary_logloss: 0.579551\n",
      "[40]\tvalid_0's binary_logloss: 0.579205\n",
      "[41]\tvalid_0's binary_logloss: 0.578851\n",
      "[42]\tvalid_0's binary_logloss: 0.57847\n",
      "[43]\tvalid_0's binary_logloss: 0.578145\n",
      "[44]\tvalid_0's binary_logloss: 0.577804\n",
      "[45]\tvalid_0's binary_logloss: 0.577541\n",
      "[46]\tvalid_0's binary_logloss: 0.577242\n",
      "[47]\tvalid_0's binary_logloss: 0.576988\n",
      "[48]\tvalid_0's binary_logloss: 0.576713\n",
      "[49]\tvalid_0's binary_logloss: 0.576443\n",
      "[50]\tvalid_0's binary_logloss: 0.576183\n",
      "[51]\tvalid_0's binary_logloss: 0.575935\n",
      "[52]\tvalid_0's binary_logloss: 0.575701\n",
      "[53]\tvalid_0's binary_logloss: 0.575472\n",
      "[54]\tvalid_0's binary_logloss: 0.575229\n",
      "[55]\tvalid_0's binary_logloss: 0.57498\n",
      "[56]\tvalid_0's binary_logloss: 0.574789\n",
      "[57]\tvalid_0's binary_logloss: 0.574584\n",
      "[58]\tvalid_0's binary_logloss: 0.574403\n",
      "[59]\tvalid_0's binary_logloss: 0.574176\n",
      "[60]\tvalid_0's binary_logloss: 0.57399\n",
      "[61]\tvalid_0's binary_logloss: 0.573784\n",
      "[62]\tvalid_0's binary_logloss: 0.573555\n",
      "[63]\tvalid_0's binary_logloss: 0.573397\n",
      "[64]\tvalid_0's binary_logloss: 0.573202\n",
      "[65]\tvalid_0's binary_logloss: 0.573038\n",
      "[66]\tvalid_0's binary_logloss: 0.572899\n",
      "[67]\tvalid_0's binary_logloss: 0.572724\n",
      "[68]\tvalid_0's binary_logloss: 0.572575\n",
      "[69]\tvalid_0's binary_logloss: 0.572399\n",
      "[70]\tvalid_0's binary_logloss: 0.57223\n",
      "[71]\tvalid_0's binary_logloss: 0.572037\n",
      "[72]\tvalid_0's binary_logloss: 0.571839\n",
      "[73]\tvalid_0's binary_logloss: 0.571658\n",
      "[74]\tvalid_0's binary_logloss: 0.571502\n",
      "[75]\tvalid_0's binary_logloss: 0.571337\n",
      "[76]\tvalid_0's binary_logloss: 0.571157\n",
      "[77]\tvalid_0's binary_logloss: 0.570988\n",
      "[78]\tvalid_0's binary_logloss: 0.570854\n",
      "[79]\tvalid_0's binary_logloss: 0.570729\n",
      "[80]\tvalid_0's binary_logloss: 0.570617\n",
      "[81]\tvalid_0's binary_logloss: 0.570497\n",
      "[82]\tvalid_0's binary_logloss: 0.570362\n",
      "[83]\tvalid_0's binary_logloss: 0.570263\n",
      "[84]\tvalid_0's binary_logloss: 0.57012\n",
      "[85]\tvalid_0's binary_logloss: 0.56991\n",
      "[86]\tvalid_0's binary_logloss: 0.569768\n",
      "[87]\tvalid_0's binary_logloss: 0.569683\n",
      "[88]\tvalid_0's binary_logloss: 0.569548\n",
      "[89]\tvalid_0's binary_logloss: 0.569433\n",
      "[90]\tvalid_0's binary_logloss: 0.56932\n",
      "[91]\tvalid_0's binary_logloss: 0.569242\n",
      "[92]\tvalid_0's binary_logloss: 0.569152\n",
      "[93]\tvalid_0's binary_logloss: 0.56904\n",
      "[94]\tvalid_0's binary_logloss: 0.568913\n",
      "[95]\tvalid_0's binary_logloss: 0.568826\n",
      "[96]\tvalid_0's binary_logloss: 0.568736\n",
      "[97]\tvalid_0's binary_logloss: 0.568649\n",
      "[98]\tvalid_0's binary_logloss: 0.56855\n",
      "[99]\tvalid_0's binary_logloss: 0.568428\n",
      "[100]\tvalid_0's binary_logloss: 0.568315\n"
     ]
    },
    {
     "data": {
      "text/plain": [
       "LGBMClassifier(colsample_bytree=0.7, gamma=0.3, max_depth=12,\n",
       "               min_child_weight=1, reg_alpha=0, reg_lambda=1)"
      ]
     },
     "execution_count": 77,
     "metadata": {},
     "output_type": "execute_result"
    }
   ],
   "source": [
    "lgbm.fit(x_train_ns,y_train_ns,verbose=True,early_stopping_rounds=10,eval_metric='aucpr',eval_set=[(x_test,y_test)])"
   ]
  },
  {
   "cell_type": "markdown",
   "id": "4926ad4a",
   "metadata": {},
   "source": [
    "### predictions"
   ]
  },
  {
   "cell_type": "code",
   "execution_count": 78,
   "id": "16027589",
   "metadata": {},
   "outputs": [],
   "source": [
    "y_pred=lgbm.predict(x_test)\n",
    "y_pred_1=lgbm.predict_proba(testx)"
   ]
  },
  {
   "cell_type": "code",
   "execution_count": null,
   "id": "d2576435",
   "metadata": {},
   "outputs": [],
   "source": [
    "sns.countplot(y_pred, palette='Set2')"
   ]
  },
  {
   "cell_type": "markdown",
   "id": "41982c2a",
   "metadata": {},
   "source": [
    "### error metrics"
   ]
  },
  {
   "cell_type": "code",
   "execution_count": 79,
   "id": "a88747d8",
   "metadata": {},
   "outputs": [
    {
     "name": "stdout",
     "output_type": "stream",
     "text": [
      "[[48578 15422]\n",
      " [ 2876  5124]]\n",
      "0.7458611111111111\n",
      "              precision    recall  f1-score   support\n",
      "\n",
      "         0.0       0.94      0.76      0.84     64000\n",
      "         1.0       0.25      0.64      0.36      8000\n",
      "\n",
      "    accuracy                           0.75     72000\n",
      "   macro avg       0.60      0.70      0.60     72000\n",
      "weighted avg       0.87      0.75      0.79     72000\n",
      "\n"
     ]
    }
   ],
   "source": [
    "print(confusion_matrix(y_test,y_pred))\n",
    "print(accuracy_score(y_test,y_pred))\n",
    "print(classification_report(y_test,y_pred))"
   ]
  },
  {
   "cell_type": "code",
   "execution_count": 80,
   "id": "66c18069",
   "metadata": {},
   "outputs": [
    {
     "data": {
      "text/plain": [
       "0.699765625"
      ]
     },
     "execution_count": 80,
     "metadata": {},
     "output_type": "execute_result"
    }
   ],
   "source": [
    "roc_auc_score(y_test,y_pred)"
   ]
  },
  {
   "cell_type": "markdown",
   "id": "4663da6c",
   "metadata": {},
   "source": [
    "### Test data predictions "
   ]
  },
  {
   "cell_type": "code",
   "execution_count": 81,
   "id": "13f5936c",
   "metadata": {},
   "outputs": [],
   "source": [
    "L4=[]\n",
    "for i in range(len(y_pred_1)):\n",
    "    L4.append(y_pred_1[i][1])"
   ]
  },
  {
   "cell_type": "code",
   "execution_count": 82,
   "id": "7b81c187",
   "metadata": {},
   "outputs": [],
   "source": [
    "result=pd.DataFrame({'target':L4},index=test1.index)\n",
    "result.to_csv('lgbm8.csv')"
   ]
  },
  {
   "cell_type": "markdown",
   "id": "b35fa49a",
   "metadata": {},
   "source": [
    "# ANN"
   ]
  },
  {
   "cell_type": "code",
   "execution_count": 86,
   "id": "631251a3",
   "metadata": {},
   "outputs": [],
   "source": [
    "model=tf.keras.Sequential([\n",
    "    keras.layers.Dense(300,input_shape=(344,),activation=\"relu\"),\n",
    "    keras.layers.Dense(200,activation=\"relu\"),\n",
    "    keras.layers.Dense(100,activation=\"relu\"),\n",
    "    keras.layers.Dense(50,activation=\"relu\"),\n",
    "    keras.layers.Dense(20,activation=\"relu\"),\n",
    "    keras.layers.Dense(1,activation=\"sigmoid\")\n",
    "])\n",
    "model.compile(optimizer=\"adam\",\n",
    "             loss=\"binary_crossentropy\",\n",
    "             metrics=[\"AUC\"]\n",
    "             )\n"
   ]
  },
  {
   "cell_type": "code",
   "execution_count": 87,
   "id": "9dabd805",
   "metadata": {},
   "outputs": [
    {
     "name": "stdout",
     "output_type": "stream",
     "text": [
      "39800/39800 [==============================] - 98s 2ms/step - loss: 0.6024 - auc: 0.7348 - val_loss: 0.5719 - val_auc: 0.7559\n"
     ]
    },
    {
     "data": {
      "text/plain": [
       "<keras.callbacks.History at 0x16e11c1cdc0>"
      ]
     },
     "execution_count": 87,
     "metadata": {},
     "output_type": "execute_result"
    }
   ],
   "source": [
    "model.fit(x_train_ns,y_train_ns,epochs=1,validation_data=(x_test,y_test))"
   ]
  },
  {
   "cell_type": "markdown",
   "id": "52533474",
   "metadata": {},
   "source": [
    "### predictions"
   ]
  },
  {
   "cell_type": "code",
   "execution_count": 51,
   "id": "82bcd2b8",
   "metadata": {},
   "outputs": [
    {
     "name": "stdout",
     "output_type": "stream",
     "text": [
      "2250/2250 [==============================] - 3s 1ms/step - loss: 0.5766 - auc: 0.7378\n"
     ]
    },
    {
     "data": {
      "text/plain": [
       "[0.5766260027885437, 0.7378280162811279]"
      ]
     },
     "execution_count": 51,
     "metadata": {},
     "output_type": "execute_result"
    }
   ],
   "source": [
    "model.evaluate(x_test,y_test)"
   ]
  },
  {
   "cell_type": "code",
   "execution_count": 94,
   "id": "7a0e8620",
   "metadata": {},
   "outputs": [],
   "source": [
    "prediction=model.predict(testx).flatten()"
   ]
  },
  {
   "cell_type": "markdown",
   "id": "6a601cbc",
   "metadata": {},
   "source": [
    "### error metrics"
   ]
  },
  {
   "cell_type": "code",
   "execution_count": 95,
   "id": "dbd322da",
   "metadata": {},
   "outputs": [],
   "source": [
    "L1=[]\n",
    "for i in range(len(prediction)):\n",
    "    if prediction[i]>0.5:\n",
    "       L1+=[1]\n",
    "    else:\n",
    "        L1+=[0]"
   ]
  },
  {
   "cell_type": "code",
   "execution_count": null,
   "id": "c5f38a43",
   "metadata": {},
   "outputs": [],
   "source": [
    "sns.countplot(L1, palette='Set2')"
   ]
  },
  {
   "cell_type": "code",
   "execution_count": 90,
   "id": "7ab1fb2e",
   "metadata": {},
   "outputs": [
    {
     "data": {
      "text/plain": [
       "0.7215694444444445"
      ]
     },
     "execution_count": 90,
     "metadata": {},
     "output_type": "execute_result"
    }
   ],
   "source": [
    "accuracy_score(y_test,L1)"
   ]
  },
  {
   "cell_type": "code",
   "execution_count": 91,
   "id": "984f4508",
   "metadata": {},
   "outputs": [
    {
     "data": {
      "text/plain": [
       "array([[46779, 17221],\n",
       "       [ 2826,  5174]], dtype=int64)"
      ]
     },
     "execution_count": 91,
     "metadata": {},
     "output_type": "execute_result"
    }
   ],
   "source": [
    "confusion_matrix(y_test,L1)"
   ]
  },
  {
   "cell_type": "code",
   "execution_count": 92,
   "id": "4ff0b7ef",
   "metadata": {},
   "outputs": [
    {
     "name": "stdout",
     "output_type": "stream",
     "text": [
      "              precision    recall  f1-score   support\n",
      "\n",
      "         0.0       0.94      0.73      0.82     64000\n",
      "         1.0       0.23      0.65      0.34      8000\n",
      "\n",
      "    accuracy                           0.72     72000\n",
      "   macro avg       0.59      0.69      0.58     72000\n",
      "weighted avg       0.86      0.72      0.77     72000\n",
      "\n"
     ]
    }
   ],
   "source": [
    "print(classification_report(y_test,L1))"
   ]
  },
  {
   "cell_type": "code",
   "execution_count": 93,
   "id": "6e98a461",
   "metadata": {},
   "outputs": [
    {
     "data": {
      "text/plain": [
       "0.6888359374999999"
      ]
     },
     "execution_count": 93,
     "metadata": {},
     "output_type": "execute_result"
    }
   ],
   "source": [
    "roc_auc_score(y_test,L1)"
   ]
  },
  {
   "cell_type": "markdown",
   "id": "ea228cc2",
   "metadata": {},
   "source": [
    "### test predictions"
   ]
  },
  {
   "cell_type": "code",
   "execution_count": 96,
   "id": "e46a4789",
   "metadata": {},
   "outputs": [],
   "source": [
    "result=pd.DataFrame({'target':prediction},index=test1.index)"
   ]
  },
  {
   "cell_type": "code",
   "execution_count": 97,
   "id": "9748db4f",
   "metadata": {},
   "outputs": [],
   "source": [
    "result.to_csv('predictions1.csv')"
   ]
  },
  {
   "cell_type": "markdown",
   "id": "dbd26412",
   "metadata": {},
   "source": [
    "# keras tuner(hyperparameter tuning for ANN)"
   ]
  },
  {
   "cell_type": "code",
   "execution_count": null,
   "id": "ab94843e",
   "metadata": {},
   "outputs": [],
   "source": [
    "from tensorflow.keras import layers\n",
    "from kerastuner.tuners import RandomSearch\n",
    "import keras_tuner as kt\n",
    "def build_model(hp):\n",
    "    model = keras.Sequential()\n",
    "    for i in range(hp.Int('num_layers', 2,10)):\n",
    "        model.add(layers.Dense(units=hp.Int('units_' + str(i),\n",
    "                                            min_value=32,\n",
    "                                            max_value=512,\n",
    "                                            step=32),\n",
    "                               activation='relu'))\n",
    "    model.add(layers.Dense(1, activation='sigmoid'))\n",
    "    model.compile(\n",
    "        optimizer=keras.optimizers.Adam(\n",
    "            hp.Choice('learning_rate', [1e-2, 1e-3, 1e-4])),\n",
    "        loss='binary_crossentropy',\n",
    "        metrics=['AUC'])\n",
    "    return model\n",
    "\n"
   ]
  },
  {
   "cell_type": "code",
   "execution_count": null,
   "id": "9a4e1bd3",
   "metadata": {},
   "outputs": [],
   "source": [
    "tuner = RandomSearch(\n",
    "    build_model,\n",
    "    kt.Objective(\"val_auc\", direction=\"max\"),\n",
    "    max_trials=100,\n",
    "    executions_per_trial=1,\n",
    "    directory='project3',\n",
    "    project_name='Air Quality Index')\n",
    "\n",
    "tuner.search(x_train, y_train, epochs=5,batch_size=64, validation_data=(x_test, y_test))"
   ]
  },
  {
   "cell_type": "code",
   "execution_count": null,
   "id": "3bcf8039",
   "metadata": {},
   "outputs": [],
   "source": [
    "best_model = tuner.get_best_models()[0]"
   ]
  },
  {
   "cell_type": "code",
   "execution_count": null,
   "id": "617de8c5",
   "metadata": {},
   "outputs": [],
   "source": [
    "tuner.results_summary()"
   ]
  },
  {
   "cell_type": "code",
   "execution_count": null,
   "id": "a2888ae8",
   "metadata": {},
   "outputs": [],
   "source": []
  },
  {
   "cell_type": "code",
   "execution_count": null,
   "id": "c3dac2d8",
   "metadata": {},
   "outputs": [],
   "source": []
  },
  {
   "cell_type": "markdown",
   "id": "01393679",
   "metadata": {},
   "source": [
    "# LogisticRegression"
   ]
  },
  {
   "cell_type": "code",
   "execution_count": 98,
   "id": "0bd19e19",
   "metadata": {},
   "outputs": [],
   "source": [
    "from sklearn import linear_model, decomposition\n"
   ]
  },
  {
   "cell_type": "code",
   "execution_count": 99,
   "id": "f504c0e4",
   "metadata": {},
   "outputs": [],
   "source": [
    "l=LogisticRegression()\n"
   ]
  },
  {
   "cell_type": "code",
   "execution_count": 100,
   "id": "9d346878",
   "metadata": {},
   "outputs": [
    {
     "name": "stderr",
     "output_type": "stream",
     "text": [
      "C:\\ProgramData\\Anaconda3\\lib\\site-packages\\sklearn\\linear_model\\_logistic.py:763: ConvergenceWarning: lbfgs failed to converge (status=1):\n",
      "STOP: TOTAL NO. of ITERATIONS REACHED LIMIT.\n",
      "\n",
      "Increase the number of iterations (max_iter) or scale the data as shown in:\n",
      "    https://scikit-learn.org/stable/modules/preprocessing.html\n",
      "Please also refer to the documentation for alternative solver options:\n",
      "    https://scikit-learn.org/stable/modules/linear_model.html#logistic-regression\n",
      "  n_iter_i = _check_optimize_result(\n"
     ]
    },
    {
     "data": {
      "text/plain": [
       "LogisticRegression()"
      ]
     },
     "execution_count": 100,
     "metadata": {},
     "output_type": "execute_result"
    }
   ],
   "source": [
    "l.fit(x_train_ns,y_train_ns)"
   ]
  },
  {
   "cell_type": "markdown",
   "id": "beae763c",
   "metadata": {},
   "source": [
    "### predictions"
   ]
  },
  {
   "cell_type": "code",
   "execution_count": 101,
   "id": "aeeda2a3",
   "metadata": {},
   "outputs": [],
   "source": [
    "x=l.predict(x_test)\n",
    "predictions=l.predict_proba(testx)"
   ]
  },
  {
   "cell_type": "markdown",
   "id": "d7eb5803",
   "metadata": {},
   "source": [
    "### error metrics "
   ]
  },
  {
   "cell_type": "code",
   "execution_count": 102,
   "id": "55ded249",
   "metadata": {},
   "outputs": [
    {
     "data": {
      "text/plain": [
       "0.7492777777777778"
      ]
     },
     "execution_count": 102,
     "metadata": {},
     "output_type": "execute_result"
    }
   ],
   "source": [
    "accuracy_score(y_test,x)"
   ]
  },
  {
   "cell_type": "code",
   "execution_count": 103,
   "id": "50a8b068",
   "metadata": {},
   "outputs": [
    {
     "data": {
      "text/plain": [
       "array([[49641, 14359],\n",
       "       [ 3693,  4307]], dtype=int64)"
      ]
     },
     "execution_count": 103,
     "metadata": {},
     "output_type": "execute_result"
    }
   ],
   "source": [
    "confusion_matrix(y_test,x)"
   ]
  },
  {
   "cell_type": "code",
   "execution_count": 104,
   "id": "0f128418",
   "metadata": {},
   "outputs": [
    {
     "name": "stdout",
     "output_type": "stream",
     "text": [
      "[[49641 14359]\n",
      " [ 3693  4307]]\n",
      "0.7492777777777778\n",
      "              precision    recall  f1-score   support\n",
      "\n",
      "         0.0       0.93      0.78      0.85     64000\n",
      "         1.0       0.23      0.54      0.32      8000\n",
      "\n",
      "    accuracy                           0.75     72000\n",
      "   macro avg       0.58      0.66      0.58     72000\n",
      "weighted avg       0.85      0.75      0.79     72000\n",
      "\n"
     ]
    }
   ],
   "source": [
    "y_pred=l.predict(x_test)\n",
    "print(confusion_matrix(y_test,y_pred))\n",
    "print(accuracy_score(y_test,y_pred))\n",
    "print(classification_report(y_test,y_pred))"
   ]
  },
  {
   "cell_type": "code",
   "execution_count": 105,
   "id": "55cdf91d",
   "metadata": {},
   "outputs": [
    {
     "data": {
      "text/plain": [
       "0.6570078125"
      ]
     },
     "execution_count": 105,
     "metadata": {},
     "output_type": "execute_result"
    }
   ],
   "source": [
    "roc_auc_score(y_test,y_pred)"
   ]
  },
  {
   "cell_type": "markdown",
   "id": "0760384a",
   "metadata": {},
   "source": [
    "### test predictions"
   ]
  },
  {
   "cell_type": "code",
   "execution_count": 106,
   "id": "6f6fd404",
   "metadata": {},
   "outputs": [],
   "source": [
    "L=[]\n",
    "for i in range(len(predictions)):\n",
    "    L.append(predictions[i][1])"
   ]
  },
  {
   "cell_type": "code",
   "execution_count": 107,
   "id": "3574cd2e",
   "metadata": {},
   "outputs": [],
   "source": [
    "result=pd.DataFrame({'target':L},index=test1.index)"
   ]
  },
  {
   "cell_type": "code",
   "execution_count": 109,
   "id": "a6aac8bc",
   "metadata": {},
   "outputs": [],
   "source": [
    "result.to_csv('predictions2.csv')"
   ]
  },
  {
   "cell_type": "code",
   "execution_count": null,
   "id": "9efbd74e",
   "metadata": {},
   "outputs": [],
   "source": []
  }
 ],
 "metadata": {
  "kernelspec": {
   "display_name": "Python 3 (ipykernel)",
   "language": "python",
   "name": "python3"
  },
  "language_info": {
   "codemirror_mode": {
    "name": "ipython",
    "version": 3
   },
   "file_extension": ".py",
   "mimetype": "text/x-python",
   "name": "python",
   "nbconvert_exporter": "python",
   "pygments_lexer": "ipython3",
   "version": "3.9.7"
  }
 },
 "nbformat": 4,
 "nbformat_minor": 5
}
